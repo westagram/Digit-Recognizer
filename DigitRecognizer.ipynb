{
 "cells": [
  {
   "cell_type": "code",
   "execution_count": 12,
   "metadata": {},
   "outputs": [],
   "source": [
    "%matplotlib inline\n",
    "import matplotlib.pyplot as plt\n",
    "import tensorflow\n",
    "\n",
    "from tensorflow import nn as nn\n",
    "import numpy as np\n",
    "import helper\n",
    "\n",
    "from get_data import read_data_sets"
   ]
  },
  {
   "cell_type": "code",
   "execution_count": 13,
   "metadata": {},
   "outputs": [
    {
     "name": "stdout",
     "output_type": "stream",
     "text": [
      "Extracting ./data/train-images-idx3-ubyte.gz\n",
      "Extracting ./data/train-labels-idx1-ubyte.gz\n",
      "Extracting ./data/t10k-images-idx3-ubyte.gz\n",
      "Extracting ./data/t10k-labels-idx1-ubyte.gz\n"
     ]
    }
   ],
   "source": [
    "data = read_data_sets('./data', one_hot=True)"
   ]
  },
  {
   "cell_type": "code",
   "execution_count": 14,
   "metadata": {},
   "outputs": [
    {
     "name": "stdout",
     "output_type": "stream",
     "text": [
      "('training data:', 55000)\n",
      "('testing data:', 10000)\n"
     ]
    }
   ],
   "source": [
    "print(\"training data:\", len(data.train.images))\n",
    "print(\"testing data:\", len(data.test.images))"
   ]
  },
  {
   "cell_type": "code",
   "execution_count": 15,
   "metadata": {
    "collapsed": true
   },
   "outputs": [],
   "source": [
    "convFilter = 5\n",
    "layer1 = 16\n",
    "layer2 = 36\n",
    "neuron = 128 \n",
    "x = tensorflow.placeholder(tensorflow.float32, shape=[None, 784], name='x')\n",
    "x_image = tensorflow.reshape(x, [-1, 28, 28, 1])\n",
    "y = tensorflow.placeholder(tensorflow.float32, shape=[None, 10], name='y')\n",
    "y_true = tensorflow.argmax(y, axis=1)"
   ]
  },
  {
   "cell_type": "code",
   "execution_count": 16,
   "metadata": {
    "collapsed": true
   },
   "outputs": [],
   "source": [
    "# conv layers\n",
    "convLayer1 = helper.convolution_layer(x_image, 1, convFilter, layer1)\n",
    "convLayer2 = helper.convolution_layer(convLayer1, layer1, convFilter, layer2)"
   ]
  },
  {
   "cell_type": "code",
   "execution_count": 17,
   "metadata": {
    "collapsed": true
   },
   "outputs": [],
   "source": [
    "# flatten layer\n",
    "flat, nFeatures = helper.flatten(convLayer2)"
   ]
  },
  {
   "cell_type": "code",
   "execution_count": 18,
   "metadata": {
    "collapsed": true
   },
   "outputs": [],
   "source": [
    "# fully connected and output layers\n",
    "\n",
    "fullyConnected = helper.fully_connected(flat, nFeatures, neuron)\n",
    "\n",
    "outputLayer = helper.fully_connected(fullyConnected, neuron, 10)"
   ]
  },
  {
   "cell_type": "code",
   "execution_count": 19,
   "metadata": {},
   "outputs": [],
   "source": [
    "prediction = tensorflow.nn.softmax(outputLayer)\n",
    "prediction = tensorflow.argmax(prediction, axis=1)\n",
    "cross_entropy = nn.softmax_cross_entropy_with_logits(logits=outputLayer,labels=y)\n",
    "\n",
    "mean = tensorflow.reduce_mean(cross_entropy)\n",
    "\n",
    "adamOptimizer = helper.choose_optimizer(\"Adam\", mean)\n",
    "rmsOptimizer = helper.choose_optimizer(\"RMS\", mean)\n",
    "\n",
    "session = tensorflow.Session()\n",
    "session.run(tensorflow.global_variables_initializer())\n",
    "\n",
    "correct = tensorflow.equal(prediction, y_true)\n",
    "accuracy = tensorflow.reduce_mean(tensorflow.cast(correct, tensorflow.float32))"
   ]
  },
  {
   "cell_type": "code",
   "execution_count": 20,
   "metadata": {
    "collapsed": true
   },
   "outputs": [],
   "source": [
    "helper.run_optimizer(1000, data, adamOptimizer, session, x, y) \n",
    "# This will take a couple mins\n",
    "# After some tests, Adam seems like a better optimizer"
   ]
  },
  {
   "cell_type": "code",
   "execution_count": 21,
   "metadata": {},
   "outputs": [
    {
     "name": "stdout",
     "output_type": "stream",
     "text": [
      "('Accuracy: ', 0.8646)\n"
     ]
    },
    {
     "data": {
      "image/png": "[encoded data removed]",
      "text/plain": [
       "<Figure size 432x288 with 1 Axes>"
      ]
     },
     "metadata": {},
     "output_type": "display_data"
    },
    {
     "data": {
      "image/png": "[encoded data removed]",
      "text/plain": [
       "<Figure size 432x288 with 1 Axes>"
      ]
     },
     "metadata": {},
     "output_type": "display_data"
    },
    {
     "data": {
      "image/png": "[encoded data removed]",
      "text/plain": [
       "<Figure size 432x288 with 1 Axes>"
      ]
     },
     "metadata": {},
     "output_type": "display_data"
    },
    {
     "data": {
      "image/png": "[encoded data removed]",
      "text/plain": [
       "<Figure size 432x288 with 1 Axes>"
      ]
     },
     "metadata": {},
     "output_type": "display_data"
    },
    {
     "data": {
      "image/png": "[encoded data removed]",
      "text/plain": [
       "<Figure size 432x288 with 1 Axes>"
      ]
     },
     "metadata": {},
     "output_type": "display_data"
    },
    {
     "data": {
      "image/png": "[encoded data removed]",
      "text/plain": [
       "<Figure size 432x288 with 1 Axes>"
      ]
     },
     "metadata": {},
     "output_type": "display_data"
    },
    {
     "data": {
      "image/png": "[encoded data removed]",
      "text/plain": [
       "<Figure size 432x288 with 1 Axes>"
      ]
     },
     "metadata": {},
     "output_type": "display_data"
    },
    {
     "data": {
      "image/png": "[encoded data removed]",
      "text/plain": [
       "<Figure size 432x288 with 1 Axes>"
      ]
     },
     "metadata": {},
     "output_type": "display_data"
    },
    {
     "data": {
      "image/png": "[encoded data removed]",
      "text/plain": [
       "<Figure size 432x288 with 1 Axes>"
      ]
     },
     "metadata": {},
     "output_type": "display_data"
    },
    {
     "data": {
      "image/png": "[encoded data removed]",
      "text/plain": [
       "<Figure size 432x288 with 1 Axes>"
      ]
     },
     "metadata": {},
     "output_type": "display_data"
    }
   ],
   "source": [
    "pred, acc = helper.get_accuracy(data, session, x, y, prediction)\n",
    "\n",
    "print(\"Accuracy: \", acc)\n",
    "\n",
    "# Choose 10 random images, and output the prediction\n",
    "import random\n",
    "for x in range(10):\n",
    "    i = random.randint(0, 9999) # 10000 images in test set\n",
    "    image = data.test.images[i]\n",
    "    prediction = pred[i]\n",
    "    helper.plot(image, prediction) "
   ]
  },
  {
   "cell_type": "code",
   "execution_count": null,
   "metadata": {
    "collapsed": true
   },
   "outputs": [],
   "source": []
  }
 ],
 "metadata": {
  "kernelspec": {
   "display_name": "Python 2",
   "language": "python",
   "name": "python2"
  },
  "language_info": {
   "codemirror_mode": {
    "name": "ipython",
    "version": 2
   },
   "file_extension": ".py",
   "mimetype": "text/x-python",
   "name": "python",
   "nbconvert_exporter": "python",
   "pygments_lexer": "ipython2",
   "version": "2.7.13"
  }
 },
 "nbformat": 4,
 "nbformat_minor": 2
}
